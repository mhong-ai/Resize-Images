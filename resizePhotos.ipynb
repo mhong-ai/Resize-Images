{
 "cells": [
  {
   "cell_type": "code",
   "execution_count": 2,
   "metadata": {},
   "outputs": [],
   "source": [
    "import PIL\n",
    "import os\n",
    "\n",
    "from PIL import Image\n",
    "import glob\n",
    "\n",
    "import os.path\n"
   ]
  },
  {
   "cell_type": "code",
   "execution_count": 3,
   "metadata": {},
   "outputs": [],
   "source": [
    "# Create empty list\n",
    "img_list = []\n",
    "resized_list = []"
   ]
  },
  {
   "cell_type": "code",
   "execution_count": 4,
   "metadata": {},
   "outputs": [],
   "source": [
    "# Append images to list\n",
    "for filename in glob.glob('/Users/barbarahong/_testtttt/*.jpg'):\n",
    "    print(filename)\n",
    "    img = Image.open(filename)\n",
    "    img_list.append(img)"
   ]
  },
  {
   "cell_type": "code",
   "execution_count": 5,
   "metadata": {},
   "outputs": [],
   "source": [
    "# Append resized images to list\n",
    "for image in img_list:\n",
    "    image = image.resize((150,150))\n",
    "    resized_list.append(image)    "
   ]
  },
  {
   "cell_type": "code",
   "execution_count": 7,
   "metadata": {},
   "outputs": [],
   "source": [
    "# save resized images to new folder\n",
    "# change the format from jpg to png\n",
    "for (i, new_img) in enumerate(resized_list):\n",
    "    new_img.save('{}{}{}'.format('/Users/barbarahong/_resizedPhotos/img',i+1,'.png'))"
   ]
  },
  {
   "cell_type": "code",
   "execution_count": null,
   "metadata": {},
   "outputs": [],
   "source": []
  }
 ],
 "metadata": {
  "kernelspec": {
   "display_name": "Python 3",
   "language": "python",
   "name": "python3"
  },
  "language_info": {
   "codemirror_mode": {
    "name": "ipython",
    "version": 3
   },
   "file_extension": ".py",
   "mimetype": "text/x-python",
   "name": "python",
   "nbconvert_exporter": "python",
   "pygments_lexer": "ipython3",
   "version": "3.7.6"
  }
 },
 "nbformat": 4,
 "nbformat_minor": 4
}
